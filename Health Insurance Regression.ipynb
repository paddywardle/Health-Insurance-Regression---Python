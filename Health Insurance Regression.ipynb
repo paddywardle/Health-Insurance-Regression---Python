{
 "cells": [
  {
   "cell_type": "markdown",
   "id": "9facc429",
   "metadata": {},
   "source": [
    "**Project Scope**"
   ]
  },
  {
   "cell_type": "markdown",
   "id": "896da203",
   "metadata": {},
   "source": [
    "In this project various regressions models, including linear, polynomial, stochastic, ridge, lasso and elastic net will be trained to see which model best predicts health insurance costs, based on various features. The best models will be optimized using randomized grid search and the best overall model will be evaluated on the test data."
   ]
  },
  {
   "cell_type": "markdown",
   "id": "15e50e89",
   "metadata": {},
   "source": [
    "**Packages**"
   ]
  },
  {
   "cell_type": "code",
   "execution_count": 1,
   "id": "0a11fc23",
   "metadata": {},
   "outputs": [],
   "source": [
    "import pandas as pd\n",
    "import numpy as np\n",
    "from sklearn.preprocessing import LabelEncoder, StandardScaler, OrdinalEncoder\n",
    "from sklearn.model_selection import train_test_split\n",
    "from sklearn.compose import ColumnTransformer"
   ]
  },
  {
   "cell_type": "code",
   "execution_count": 85,
   "id": "fb82fc03",
   "metadata": {},
   "outputs": [],
   "source": [
    "from sklearn.linear_model import LinearRegression, SGDRegressor, Ridge, Lasso, ElasticNet\n",
    "from sklearn.pipeline import Pipeline\n",
    "from sklearn.model_selection import cross_val_score, RandomizedSearchCV\n",
    "from sklearn.preprocessing import PolynomialFeatures\n",
    "from scipy.stats import randint as sp_randint\n",
    "import matplotlib.pyplot as plt\n",
    "from sklearn.metrics import mean_squared_error"
   ]
  },
  {
   "cell_type": "markdown",
   "id": "9862fcba",
   "metadata": {},
   "source": [
    "**Dataset**"
   ]
  },
  {
   "cell_type": "code",
   "execution_count": 3,
   "id": "8ff0ca09",
   "metadata": {},
   "outputs": [],
   "source": [
    "insurance_df = pd.read_csv('insurance.csv')"
   ]
  },
  {
   "cell_type": "code",
   "execution_count": 4,
   "id": "f7c8c8a8",
   "metadata": {
    "scrolled": true
   },
   "outputs": [
    {
     "data": {
      "text/html": [
       "<div>\n",
       "<style scoped>\n",
       "    .dataframe tbody tr th:only-of-type {\n",
       "        vertical-align: middle;\n",
       "    }\n",
       "\n",
       "    .dataframe tbody tr th {\n",
       "        vertical-align: top;\n",
       "    }\n",
       "\n",
       "    .dataframe thead th {\n",
       "        text-align: right;\n",
       "    }\n",
       "</style>\n",
       "<table border=\"1\" class=\"dataframe\">\n",
       "  <thead>\n",
       "    <tr style=\"text-align: right;\">\n",
       "      <th></th>\n",
       "      <th>age</th>\n",
       "      <th>sex</th>\n",
       "      <th>bmi</th>\n",
       "      <th>children</th>\n",
       "      <th>smoker</th>\n",
       "      <th>region</th>\n",
       "      <th>charges</th>\n",
       "    </tr>\n",
       "  </thead>\n",
       "  <tbody>\n",
       "    <tr>\n",
       "      <th>0</th>\n",
       "      <td>19</td>\n",
       "      <td>female</td>\n",
       "      <td>27.900</td>\n",
       "      <td>0</td>\n",
       "      <td>yes</td>\n",
       "      <td>southwest</td>\n",
       "      <td>16884.92400</td>\n",
       "    </tr>\n",
       "    <tr>\n",
       "      <th>1</th>\n",
       "      <td>18</td>\n",
       "      <td>male</td>\n",
       "      <td>33.770</td>\n",
       "      <td>1</td>\n",
       "      <td>no</td>\n",
       "      <td>southeast</td>\n",
       "      <td>1725.55230</td>\n",
       "    </tr>\n",
       "    <tr>\n",
       "      <th>2</th>\n",
       "      <td>28</td>\n",
       "      <td>male</td>\n",
       "      <td>33.000</td>\n",
       "      <td>3</td>\n",
       "      <td>no</td>\n",
       "      <td>southeast</td>\n",
       "      <td>4449.46200</td>\n",
       "    </tr>\n",
       "    <tr>\n",
       "      <th>3</th>\n",
       "      <td>33</td>\n",
       "      <td>male</td>\n",
       "      <td>22.705</td>\n",
       "      <td>0</td>\n",
       "      <td>no</td>\n",
       "      <td>northwest</td>\n",
       "      <td>21984.47061</td>\n",
       "    </tr>\n",
       "    <tr>\n",
       "      <th>4</th>\n",
       "      <td>32</td>\n",
       "      <td>male</td>\n",
       "      <td>28.880</td>\n",
       "      <td>0</td>\n",
       "      <td>no</td>\n",
       "      <td>northwest</td>\n",
       "      <td>3866.85520</td>\n",
       "    </tr>\n",
       "  </tbody>\n",
       "</table>\n",
       "</div>"
      ],
      "text/plain": [
       "   age     sex     bmi  children smoker     region      charges\n",
       "0   19  female  27.900         0    yes  southwest  16884.92400\n",
       "1   18    male  33.770         1     no  southeast   1725.55230\n",
       "2   28    male  33.000         3     no  southeast   4449.46200\n",
       "3   33    male  22.705         0     no  northwest  21984.47061\n",
       "4   32    male  28.880         0     no  northwest   3866.85520"
      ]
     },
     "execution_count": 4,
     "metadata": {},
     "output_type": "execute_result"
    }
   ],
   "source": [
    "insurance_df.head()"
   ]
  },
  {
   "cell_type": "code",
   "execution_count": 5,
   "id": "b66a2741",
   "metadata": {},
   "outputs": [
    {
     "data": {
      "text/html": [
       "<div>\n",
       "<style scoped>\n",
       "    .dataframe tbody tr th:only-of-type {\n",
       "        vertical-align: middle;\n",
       "    }\n",
       "\n",
       "    .dataframe tbody tr th {\n",
       "        vertical-align: top;\n",
       "    }\n",
       "\n",
       "    .dataframe thead th {\n",
       "        text-align: right;\n",
       "    }\n",
       "</style>\n",
       "<table border=\"1\" class=\"dataframe\">\n",
       "  <thead>\n",
       "    <tr style=\"text-align: right;\">\n",
       "      <th></th>\n",
       "      <th>age</th>\n",
       "      <th>bmi</th>\n",
       "      <th>children</th>\n",
       "      <th>charges</th>\n",
       "    </tr>\n",
       "  </thead>\n",
       "  <tbody>\n",
       "    <tr>\n",
       "      <th>count</th>\n",
       "      <td>1338.000000</td>\n",
       "      <td>1338.000000</td>\n",
       "      <td>1338.000000</td>\n",
       "      <td>1338.000000</td>\n",
       "    </tr>\n",
       "    <tr>\n",
       "      <th>mean</th>\n",
       "      <td>39.207025</td>\n",
       "      <td>30.663397</td>\n",
       "      <td>1.094918</td>\n",
       "      <td>13270.422265</td>\n",
       "    </tr>\n",
       "    <tr>\n",
       "      <th>std</th>\n",
       "      <td>14.049960</td>\n",
       "      <td>6.098187</td>\n",
       "      <td>1.205493</td>\n",
       "      <td>12110.011237</td>\n",
       "    </tr>\n",
       "    <tr>\n",
       "      <th>min</th>\n",
       "      <td>18.000000</td>\n",
       "      <td>15.960000</td>\n",
       "      <td>0.000000</td>\n",
       "      <td>1121.873900</td>\n",
       "    </tr>\n",
       "    <tr>\n",
       "      <th>25%</th>\n",
       "      <td>27.000000</td>\n",
       "      <td>26.296250</td>\n",
       "      <td>0.000000</td>\n",
       "      <td>4740.287150</td>\n",
       "    </tr>\n",
       "    <tr>\n",
       "      <th>50%</th>\n",
       "      <td>39.000000</td>\n",
       "      <td>30.400000</td>\n",
       "      <td>1.000000</td>\n",
       "      <td>9382.033000</td>\n",
       "    </tr>\n",
       "    <tr>\n",
       "      <th>75%</th>\n",
       "      <td>51.000000</td>\n",
       "      <td>34.693750</td>\n",
       "      <td>2.000000</td>\n",
       "      <td>16639.912515</td>\n",
       "    </tr>\n",
       "    <tr>\n",
       "      <th>max</th>\n",
       "      <td>64.000000</td>\n",
       "      <td>53.130000</td>\n",
       "      <td>5.000000</td>\n",
       "      <td>63770.428010</td>\n",
       "    </tr>\n",
       "  </tbody>\n",
       "</table>\n",
       "</div>"
      ],
      "text/plain": [
       "               age          bmi     children       charges\n",
       "count  1338.000000  1338.000000  1338.000000   1338.000000\n",
       "mean     39.207025    30.663397     1.094918  13270.422265\n",
       "std      14.049960     6.098187     1.205493  12110.011237\n",
       "min      18.000000    15.960000     0.000000   1121.873900\n",
       "25%      27.000000    26.296250     0.000000   4740.287150\n",
       "50%      39.000000    30.400000     1.000000   9382.033000\n",
       "75%      51.000000    34.693750     2.000000  16639.912515\n",
       "max      64.000000    53.130000     5.000000  63770.428010"
      ]
     },
     "execution_count": 5,
     "metadata": {},
     "output_type": "execute_result"
    }
   ],
   "source": [
    "insurance_df.describe()"
   ]
  },
  {
   "cell_type": "markdown",
   "id": "24b2eb53",
   "metadata": {},
   "source": [
    "**Dataset Visualisation**"
   ]
  },
  {
   "cell_type": "code",
   "execution_count": 84,
   "id": "45ca9d3f",
   "metadata": {},
   "outputs": [
    {
     "data": {
      "image/png": "[encoded data removed]",
      "text/plain": [
       "<Figure size 1440x1080 with 4 Axes>"
      ]
     },
     "metadata": {
      "needs_background": "light"
     },
     "output_type": "display_data"
    }
   ],
   "source": [
    "insurance_df.hist(bins=50, figsize=(20,15))\n",
    "plt.show()"
   ]
  },
  {
   "cell_type": "markdown",
   "id": "349a936b",
   "metadata": {},
   "source": [
    "From the histogram plots:\n",
    "- It can be seen that the age feature is fairly constant apart from a high number of instances around 18-20 years old\n",
    "- It can be seen that the bmi feature is fairly normally distributed\n",
    "- It can be seen that the children and charges features are right-skewed (positive skew)"
   ]
  },
  {
   "cell_type": "markdown",
   "id": "d37328db",
   "metadata": {},
   "source": [
    "**Preprocessing**"
   ]
  },
  {
   "cell_type": "code",
   "execution_count": 6,
   "id": "202c631a",
   "metadata": {},
   "outputs": [],
   "source": [
    "insurance_df_copy = insurance_df.copy() # copy of dataset so the original dataset is not altered"
   ]
  },
  {
   "cell_type": "code",
   "execution_count": 7,
   "id": "91206592",
   "metadata": {},
   "outputs": [],
   "source": [
    "data = insurance_df_copy.iloc[:, :-1]\n",
    "labels = insurance_df_copy.charges"
   ]
  },
  {
   "cell_type": "code",
   "execution_count": 8,
   "id": "5d6ac8d1",
   "metadata": {},
   "outputs": [],
   "source": [
    "X_train, X_test, y_train, y_test = train_test_split(data, labels, train_size=0.8, test_size=0.2, random_state=0)"
   ]
  },
  {
   "cell_type": "code",
   "execution_count": 9,
   "id": "2849da13",
   "metadata": {},
   "outputs": [],
   "source": [
    "numeric_columns = ['age', 'bmi', 'children']\n",
    "categorical_columns = ['sex', 'smoker', 'region']"
   ]
  },
  {
   "cell_type": "code",
   "execution_count": 10,
   "id": "bab8c45d",
   "metadata": {},
   "outputs": [],
   "source": [
    "transformer = ColumnTransformer([\n",
    "    ('num', StandardScaler(), numeric_columns),\n",
    "    ('cat', OrdinalEncoder(), categorical_columns),\n",
    "])"
   ]
  },
  {
   "cell_type": "markdown",
   "id": "acded045",
   "metadata": {},
   "source": [
    "**Simple Linear Regression Model**"
   ]
  },
  {
   "cell_type": "markdown",
   "id": "3c59ed56",
   "metadata": {},
   "source": [
    "Pipeline"
   ]
  },
  {
   "cell_type": "code",
   "execution_count": 11,
   "id": "b58192d4",
   "metadata": {},
   "outputs": [],
   "source": [
    "linear_reg_pipeline = Pipeline(steps=[\n",
    "    ('columns', transformer), \n",
    "    ('model', LinearRegression())\n",
    "])"
   ]
  },
  {
   "cell_type": "markdown",
   "id": "e62ebd2f",
   "metadata": {},
   "source": [
    "Cross-Validation"
   ]
  },
  {
   "cell_type": "code",
   "execution_count": 12,
   "id": "a0ff2661",
   "metadata": {
    "scrolled": true
   },
   "outputs": [
    {
     "name": "stdout",
     "output_type": "stream",
     "text": [
      "[37523482.97299212 36295990.72059628 21498998.14371552 44221063.67494503\n",
      " 38194913.66664154 31612190.04231283 45771609.85534251 30840371.19404583\n",
      " 48560738.60088452 48446216.77678218]\n",
      "\n",
      "The average root mean squared error is: 6148.729316694702\n"
     ]
    }
   ],
   "source": [
    "cross_val_scores = -cross_val_score(linear_reg_pipeline, X_train, y_train, cv=10, scoring='neg_mean_squared_error')\n",
    "\n",
    "print(cross_val_scores)\n",
    "\n",
    "print(f'\\nThe average root mean squared error is: {np.mean(np.sqrt(cross_val_scores))}')"
   ]
  },
  {
   "cell_type": "markdown",
   "id": "09b036a3",
   "metadata": {},
   "source": [
    "**Stochastic Gradient Descent Regression Model**"
   ]
  },
  {
   "cell_type": "markdown",
   "id": "e5b6f530",
   "metadata": {},
   "source": [
    "Pipeline"
   ]
  },
  {
   "cell_type": "code",
   "execution_count": 13,
   "id": "81360db6",
   "metadata": {},
   "outputs": [],
   "source": [
    "SDG_pipeline = Pipeline(steps=[\n",
    "    ('columns', transformer), \n",
    "    ('model', SGDRegressor())\n",
    "])"
   ]
  },
  {
   "cell_type": "markdown",
   "id": "d5170ad6",
   "metadata": {},
   "source": [
    "Cross-Validation"
   ]
  },
  {
   "cell_type": "code",
   "execution_count": 14,
   "id": "dd35fbde",
   "metadata": {},
   "outputs": [
    {
     "name": "stdout",
     "output_type": "stream",
     "text": [
      "[37661892.64384362 36165454.4823659  21808206.53599036 44108088.26747341\n",
      " 38337813.56958108 31786899.81491603 45732512.7326851  31003210.53505726\n",
      " 48274069.16837797 48607403.05685118]\n",
      "\n",
      "The average root mean squared error is: 6154.224911076127\n"
     ]
    }
   ],
   "source": [
    "cross_val_scores = -cross_val_score(SDG_pipeline, X_train, y_train, cv=10, scoring='neg_mean_squared_error')\n",
    "\n",
    "print(cross_val_scores)\n",
    "\n",
    "print(f'\\nThe average root mean squared error is: {np.mean(np.sqrt(cross_val_scores))}')"
   ]
  },
  {
   "cell_type": "markdown",
   "id": "5304a7e8",
   "metadata": {},
   "source": [
    "**Polynomial Regression Model**"
   ]
  },
  {
   "cell_type": "markdown",
   "id": "2e2bcf88",
   "metadata": {},
   "source": [
    "Pipeline"
   ]
  },
  {
   "cell_type": "code",
   "execution_count": 15,
   "id": "0a2adf60",
   "metadata": {},
   "outputs": [],
   "source": [
    "poly_pipeline = Pipeline(steps=[\n",
    "    ('columns', transformer), \n",
    "    ('poly', PolynomialFeatures(degree=2, include_bias=False)),\n",
    "    ('model', SGDRegressor())\n",
    "])"
   ]
  },
  {
   "cell_type": "markdown",
   "id": "cf344224",
   "metadata": {},
   "source": [
    "Cross-Validation"
   ]
  },
  {
   "cell_type": "code",
   "execution_count": 16,
   "id": "bb227e7d",
   "metadata": {},
   "outputs": [
    {
     "name": "stdout",
     "output_type": "stream",
     "text": [
      "[23364799.26775908 23371851.47557955 13055896.21608303 26475863.17080561\n",
      " 23392086.81450852 21817381.96412967 24887696.234557   22077009.76203162\n",
      " 33522929.67938278 39268663.25177785]\n",
      "\n",
      "The average root mean squared error is: 4967.811349171886\n"
     ]
    }
   ],
   "source": [
    "cross_val_scores = -cross_val_score(poly_pipeline, X_train, y_train, cv=10, scoring='neg_mean_squared_error')\n",
    "\n",
    "print(cross_val_scores)\n",
    "\n",
    "print(f'\\nThe average root mean squared error is: {np.mean(np.sqrt(cross_val_scores))}')"
   ]
  },
  {
   "cell_type": "markdown",
   "id": "bd08fae3",
   "metadata": {},
   "source": [
    "**Ridge Regression**"
   ]
  },
  {
   "cell_type": "markdown",
   "id": "c6fa5224",
   "metadata": {},
   "source": [
    "Pipeline"
   ]
  },
  {
   "cell_type": "code",
   "execution_count": 17,
   "id": "8afee665",
   "metadata": {},
   "outputs": [],
   "source": [
    "ridge_pipeline = Pipeline(steps=[\n",
    "    ('columns', transformer), \n",
    "    ('poly', PolynomialFeatures(degree=2, include_bias=False)),\n",
    "    ('model', Ridge(alpha=1, solver='cholesky'))\n",
    "])"
   ]
  },
  {
   "cell_type": "markdown",
   "id": "f13bb06a",
   "metadata": {},
   "source": [
    "Cross-Validation"
   ]
  },
  {
   "cell_type": "code",
   "execution_count": 18,
   "id": "e96edb08",
   "metadata": {},
   "outputs": [
    {
     "name": "stdout",
     "output_type": "stream",
     "text": [
      "[22830844.69021647 22903784.9619849  11798836.25554161 26219317.38267369\n",
      " 23535261.43293836 21114278.6268196  24614515.4677225  20862080.15883229\n",
      " 33739192.37923143 39347991.24265978]\n",
      "\n",
      "The average root mean squared error is: 4917.586675519177\n"
     ]
    }
   ],
   "source": [
    "cross_val_scores = -cross_val_score(ridge_pipeline, X_train, y_train, cv=10, scoring='neg_mean_squared_error')\n",
    "\n",
    "print(cross_val_scores)\n",
    "\n",
    "print(f'\\nThe average root mean squared error is: {np.mean(np.sqrt(cross_val_scores))}')"
   ]
  },
  {
   "cell_type": "markdown",
   "id": "7df69b15",
   "metadata": {},
   "source": [
    "**Lasso Regression**"
   ]
  },
  {
   "cell_type": "markdown",
   "id": "2fb9badf",
   "metadata": {},
   "source": [
    "Pipeline"
   ]
  },
  {
   "cell_type": "code",
   "execution_count": 19,
   "id": "7498abc8",
   "metadata": {},
   "outputs": [],
   "source": [
    "lasso_pipeline = Pipeline(steps=[\n",
    "    ('columns', transformer), \n",
    "    ('poly', PolynomialFeatures(degree=2, include_bias=False)),\n",
    "    ('model', Lasso(alpha=1))\n",
    "])"
   ]
  },
  {
   "cell_type": "markdown",
   "id": "27afa17d",
   "metadata": {},
   "source": [
    "Cross-Validation"
   ]
  },
  {
   "cell_type": "code",
   "execution_count": 20,
   "id": "e8bbdb80",
   "metadata": {},
   "outputs": [
    {
     "name": "stdout",
     "output_type": "stream",
     "text": [
      "[22891331.58618161 22861516.25348298 11823086.25150959 26165725.73107351\n",
      " 23571746.82194484 21139925.83479377 24596460.13121929 20767589.44373555\n",
      " 33830591.63084054 39304816.70816713]\n",
      "\n",
      "The average root mean squared error is: 4917.485961657199\n"
     ]
    }
   ],
   "source": [
    "cross_val_scores = -cross_val_score(lasso_pipeline, X_train, y_train, cv=10, scoring='neg_mean_squared_error')\n",
    "\n",
    "print(cross_val_scores)\n",
    "\n",
    "print(f'\\nThe average root mean squared error is: {np.mean(np.sqrt(cross_val_scores))}')"
   ]
  },
  {
   "cell_type": "markdown",
   "id": "fb26e361",
   "metadata": {},
   "source": [
    "**Elastic Net**"
   ]
  },
  {
   "cell_type": "markdown",
   "id": "032b810c",
   "metadata": {},
   "source": [
    "Pipeline"
   ]
  },
  {
   "cell_type": "code",
   "execution_count": 21,
   "id": "c5ab9620",
   "metadata": {},
   "outputs": [],
   "source": [
    "elastic_net_pipeline = Pipeline(steps=[\n",
    "    ('columns', transformer), \n",
    "    ('poly', PolynomialFeatures(degree=2, include_bias=False)),\n",
    "    ('model', ElasticNet(alpha=1, l1_ratio=0.9))\n",
    "])"
   ]
  },
  {
   "cell_type": "markdown",
   "id": "c24c6598",
   "metadata": {},
   "source": [
    "Cross-Validation"
   ]
  },
  {
   "cell_type": "code",
   "execution_count": 22,
   "id": "d76d4c63",
   "metadata": {},
   "outputs": [
    {
     "name": "stdout",
     "output_type": "stream",
     "text": [
      "[32846900.56006468 29149957.17060525 15453315.65744392 34651193.8530454\n",
      " 26542943.18815551 28395166.5781045  36060620.91166274 29584502.2052732\n",
      " 36730036.79499406 50000367.4842845 ]\n",
      "\n",
      "The average root mean squared error is: 5600.44227489362\n"
     ]
    }
   ],
   "source": [
    "cross_val_scores = -cross_val_score(elastic_net_pipeline, X_train, y_train, cv=10, scoring='neg_mean_squared_error')\n",
    "\n",
    "print(cross_val_scores)\n",
    "\n",
    "print(f'\\nThe average root mean squared error is: {np.mean(np.sqrt(cross_val_scores))}')"
   ]
  },
  {
   "cell_type": "markdown",
   "id": "a9a4fda0",
   "metadata": {},
   "source": [
    "**Best Models**"
   ]
  },
  {
   "cell_type": "markdown",
   "id": "25933f96",
   "metadata": {},
   "source": [
    "The best models were found to be the polynomial, Ridge, Lasso and elastic net regression models, based on their RSME scores. It was decided that these algorithms would be fine-tuned using Randomized Grid Search and cross-validation."
   ]
  },
  {
   "cell_type": "markdown",
   "id": "e1405dff",
   "metadata": {},
   "source": [
    "**Fine-Tuning**"
   ]
  },
  {
   "cell_type": "markdown",
   "id": "bad9d925",
   "metadata": {},
   "source": [
    "**Polynomial Regression Randomized Search**"
   ]
  },
  {
   "cell_type": "code",
   "execution_count": 25,
   "id": "55842062",
   "metadata": {},
   "outputs": [
    {
     "name": "stdout",
     "output_type": "stream",
     "text": [
      "The best parameters were found to be {'poly__degree': 2}\n"
     ]
    }
   ],
   "source": [
    "# Polynomial pipeline\n",
    "poly_pipeline_fine = Pipeline(steps=[\n",
    "    ('columns', transformer), \n",
    "    ('poly', PolynomialFeatures(include_bias=False)),\n",
    "    ('model', SGDRegressor())\n",
    "])\n",
    "\n",
    "param_grid = {'poly__degree': sp_randint(1, 20)} # has to be poly__degree so its referencing 'poly'\n",
    "\n",
    "\n",
    "# Randomized Search object with 10 iterations and 10 fold cross validation\n",
    "grid_search_poly = RandomizedSearchCV(estimator=poly_pipeline_fine, param_distributions=param_grid, n_iter=10, scoring='neg_mean_squared_error', n_jobs=-1, cv=10)\n",
    "\n",
    "# Fitting Randomized Search\n",
    "grid_search_poly.fit(X_train, y_train) \n",
    "\n",
    "print(f'The best parameters were found to be {grid_search_poly.best_params_}')"
   ]
  },
  {
   "cell_type": "markdown",
   "id": "43623e79",
   "metadata": {},
   "source": [
    "Based on this randomized grid search 2 is the best polynomial degree to use, this is the same as the previously built **Polynomial Regression Model** so it will not be built again. Therefore, this degree will be used in the ridge and lasso models."
   ]
  },
  {
   "cell_type": "markdown",
   "id": "3556767b",
   "metadata": {},
   "source": [
    "**Ridge Regression Randomized Search**"
   ]
  },
  {
   "cell_type": "code",
   "execution_count": 36,
   "id": "3a62b0b6",
   "metadata": {},
   "outputs": [
    {
     "name": "stdout",
     "output_type": "stream",
     "text": [
      "The best parameters were found to be {'model__alpha': 0.7000000000000001}\n"
     ]
    }
   ],
   "source": [
    "# Ridge pipeline\n",
    "ridge_pipeline_fine = Pipeline(steps=[\n",
    "    ('columns', transformer), \n",
    "    ('poly', PolynomialFeatures(degree=2, include_bias=False)),\n",
    "    ('model', Ridge(solver='cholesky'))\n",
    "])\n",
    "\n",
    "# ridge_pipeline_fine.get_params().keys()\n",
    "\n",
    "param_grid = {'model__alpha': list(np.arange(0, 5, 0.1))} # param grid for alpha \n",
    "\n",
    "# Randomized Search object with 50 iterations and 10 fold cross validation\n",
    "grid_search_ridge = RandomizedSearchCV(estimator=ridge_pipeline_fine, param_distributions=param_grid, n_iter=50, scoring='neg_mean_squared_error', n_jobs=-1, cv=10)\n",
    "\n",
    "# Fitting Randomized Search\n",
    "grid_search_ridge.fit(X_train, y_train)\n",
    "\n",
    "print(f'The best parameters were found to be {grid_search_ridge.best_params_}')"
   ]
  },
  {
   "cell_type": "markdown",
   "id": "56c9a152",
   "metadata": {},
   "source": [
    "For the ridge regression it was found that the optimum alpha value is 0.7 for the Ridge model"
   ]
  },
  {
   "cell_type": "code",
   "execution_count": 38,
   "id": "12e34233",
   "metadata": {},
   "outputs": [],
   "source": [
    "# Fine Tuned Ridge Regression Model\n",
    "\n",
    "ridge_pipeline_optimum = Pipeline(steps=[\n",
    "    ('columns', transformer), \n",
    "    ('poly', PolynomialFeatures(degree=2, include_bias=False)),\n",
    "    ('model', Ridge(alpha=0.7000000000000001, solver='cholesky'))\n",
    "])"
   ]
  },
  {
   "cell_type": "code",
   "execution_count": 39,
   "id": "007ae4f9",
   "metadata": {
    "scrolled": true
   },
   "outputs": [
    {
     "name": "stdout",
     "output_type": "stream",
     "text": [
      "[22848249.94730067 22895077.71000129 11803332.09816722 26203591.73747623\n",
      " 23548285.73160676 21125714.84075401 24607179.42706192 20833684.69810461\n",
      " 33758041.52253973 39336576.72541488]\n",
      "\n",
      "The average root mean squared error for the fine-tuned Ridge Regression model is: 4917.534647066926\n"
     ]
    }
   ],
   "source": [
    "# Cross validation optimised Ridge Model\n",
    "\n",
    "cross_val_scores_ridge_optimum = -cross_val_score(ridge_pipeline_optimum, X_train, y_train, cv=10, scoring='neg_mean_squared_error')\n",
    "\n",
    "print(cross_val_scores_ridge_optimum)\n",
    "\n",
    "print(f'\\nThe average root mean squared error for the fine-tuned Ridge Regression model is: {np.mean(np.sqrt(cross_val_scores_ridge_optimum))}')"
   ]
  },
  {
   "cell_type": "markdown",
   "id": "796d036f",
   "metadata": {},
   "source": [
    "It was found that the optimized Ridge Regression model slightly improved upon the unoptimized Ridge Regression model."
   ]
  },
  {
   "cell_type": "markdown",
   "id": "7c5cfc16",
   "metadata": {},
   "source": [
    "**Lasso Regression Randomized Search**"
   ]
  },
  {
   "cell_type": "code",
   "execution_count": 43,
   "id": "280b37b7",
   "metadata": {},
   "outputs": [
    {
     "name": "stdout",
     "output_type": "stream",
     "text": [
      "The best parameters were found to be {'model__alpha': 16.7}\n"
     ]
    }
   ],
   "source": [
    "# Lasso pipeline\n",
    "lasso_pipeline_fine = Pipeline(steps=[\n",
    "    ('columns', transformer), \n",
    "    ('poly', PolynomialFeatures(degree=2, include_bias=False)),\n",
    "    ('model', Lasso())\n",
    "])\n",
    "\n",
    "param_grid = {'model__alpha': list(np.arange(0,20, 0.1))} # param grid for alpha \n",
    "\n",
    "# Randomized Search object with 50 iterations and 10 fold cross validation\n",
    "grid_search_lasso = RandomizedSearchCV(estimator=lasso_pipeline_fine, param_distributions=param_grid, n_iter=50, scoring='neg_mean_squared_error', n_jobs=-1, cv=10)\n",
    "\n",
    "# Fitting Randomized Search\n",
    "grid_search_lasso.fit(X_train, y_train)\n",
    "\n",
    "print(f'The best parameters were found to be {grid_search_lasso.best_params_}')"
   ]
  },
  {
   "cell_type": "markdown",
   "id": "fc186196",
   "metadata": {},
   "source": [
    "For the lasso regression it was found that the optimum alpha value is 16.7 for the lasso model. This higher value for alpha implies that there were some useless features in the model and therefore by increasing alpha the affect of these features has been decreased, decreasing the variance of the model (the model will not overfit as severly)"
   ]
  },
  {
   "cell_type": "markdown",
   "id": "4325c4e9",
   "metadata": {},
   "source": [
    "Some notes:\n",
    "- High error but validation and training error close together = high bias\n",
    "- Validation and training error far apart = high variance"
   ]
  },
  {
   "cell_type": "code",
   "execution_count": 89,
   "id": "8b858d0e",
   "metadata": {},
   "outputs": [],
   "source": [
    "# Fine Tuned Lasso Regression Model\n",
    "\n",
    "lasso_pipeline_optimum = Pipeline(steps=[\n",
    "    ('columns', transformer), \n",
    "    ('poly', PolynomialFeatures(degree=2, include_bias=False)),\n",
    "    ('model', Lasso(alpha=16.7))\n",
    "])"
   ]
  },
  {
   "cell_type": "code",
   "execution_count": 46,
   "id": "cef4cedb",
   "metadata": {
    "scrolled": true
   },
   "outputs": [
    {
     "name": "stdout",
     "output_type": "stream",
     "text": [
      "[22881607.56900655 22644961.75825492 11987368.35507081 26127561.16672233\n",
      " 23459518.90106246 20931000.78626411 24631564.44093117 20761190.98555681\n",
      " 34102310.79691606 39206984.19941744]\n",
      "\n",
      "The average root mean squared error for the fine-tuned Ridge Regression model is: 4915.521008218869\n"
     ]
    }
   ],
   "source": [
    "# Cross validation optimised Lasso Model\n",
    "\n",
    "cross_val_scores_lasso_optimum = -cross_val_score(lasso_pipeline_optimum, X_train, y_train, cv=10, scoring='neg_mean_squared_error')\n",
    "\n",
    "print(cross_val_scores_lasso_optimum)\n",
    "\n",
    "print(f'\\nThe average root mean squared error for the fine-tuned Ridge Regression model is: {np.mean(np.sqrt(cross_val_scores_lasso_optimum))}')"
   ]
  },
  {
   "cell_type": "markdown",
   "id": "783f987f",
   "metadata": {},
   "source": [
    "It was found that the optimized lasso model improved upon the unoptimized lasso model. Furthermore, this model was found to be better than the optimized Ridge Regression model."
   ]
  },
  {
   "cell_type": "markdown",
   "id": "a6ce5ca8",
   "metadata": {},
   "source": [
    "**Elastic Net Regression Randomized Search**"
   ]
  },
  {
   "cell_type": "code",
   "execution_count": 78,
   "id": "9ed654a4",
   "metadata": {},
   "outputs": [
    {
     "name": "stdout",
     "output_type": "stream",
     "text": [
      "The best parameters were found to be {'model__l1_ratio': 0.997, 'model__alpha': 11.9}\n"
     ]
    }
   ],
   "source": [
    "# Elastic Net Fine-Tuning Pipeline\n",
    "elastic_net_pipeline_fine = Pipeline(steps=[\n",
    "    ('columns', transformer),\n",
    "    ('poly', PolynomialFeatures(degree=2, include_bias=False)),\n",
    "    ('model', ElasticNet())\n",
    "]) \n",
    "\n",
    "# Elastic Net Parameter Grid\n",
    "param_grid = {'model__alpha': list(np.arange(0,20, 0.1)), 'model__l1_ratio': list(np.arange(0, 1, 0.001))}\n",
    "\n",
    "# Randomized Search using 10 iterations and 10 fold cross-validation\n",
    "grid_search_elastic_net = RandomizedSearchCV(estimator=elastic_net_pipeline_fine, param_distributions=param_grid, n_iter=50, scoring='neg_mean_squared_error', n_jobs=-1, cv=10)\n",
    "\n",
    "# Fitting Randomized Search\n",
    "grid_search_elastic_net.fit(X_train, y_train)\n",
    "\n",
    "print(f'The best parameters were found to be {grid_search_elastic_net.best_params_}')"
   ]
  },
  {
   "cell_type": "markdown",
   "id": "6d2359b0",
   "metadata": {},
   "source": [
    "It was found using the randomized search that the best parameters for the elastic net model was l1_ratio = 0.997 and alpha = 11.9"
   ]
  },
  {
   "cell_type": "code",
   "execution_count": 80,
   "id": "6e0ae481",
   "metadata": {},
   "outputs": [],
   "source": [
    "# Fine-Tuned Elastic Net Regression Model\n",
    "elastic_net_pipeline_optimum = Pipeline(steps=[\n",
    "    ('columns', transformer),\n",
    "    ('poly', PolynomialFeatures(degree=2, include_bias=False)),\n",
    "    ('model', ElasticNet(alpha=11.9, l1_ratio=0.997))\n",
    "]) "
   ]
  },
  {
   "cell_type": "code",
   "execution_count": 81,
   "id": "acb81c49",
   "metadata": {},
   "outputs": [
    {
     "name": "stdout",
     "output_type": "stream",
     "text": [
      "[25830929.67408768 24845503.46893547 12738283.7605075  29198178.00901043\n",
      " 24200251.76046801 22914046.35149217 28855346.28734498 24439863.17364151\n",
      " 34156670.09717724 43205988.99819051]\n",
      "\n",
      "The average root mean squared error for the fine-tuned Ridge Regression model is: 5147.866756852011\n"
     ]
    }
   ],
   "source": [
    "# Cross validation optimised Lasso Model\n",
    "\n",
    "cross_val_scores_elastic_optimum = -cross_val_score(elastic_net_pipeline_optimum, X_train, y_train, cv=10, scoring='neg_mean_squared_error')\n",
    "\n",
    "print(cross_val_scores_elastic_optimum)\n",
    "\n",
    "print(f'\\nThe average root mean squared error for the fine-tuned Ridge Regression model is: {np.mean(np.sqrt(cross_val_scores_elastic_optimum))}')"
   ]
  },
  {
   "cell_type": "markdown",
   "id": "865b8dd9",
   "metadata": {},
   "source": [
    "Based on this cross-validation score it was found that the optimized model improved on the unoptimized elastic net model. However, this model was not as good as the other optimized models."
   ]
  },
  {
   "cell_type": "markdown",
   "id": "d3465ba7",
   "metadata": {},
   "source": [
    "**Fine-Tuning Summary**"
   ]
  },
  {
   "cell_type": "markdown",
   "id": "0674b095",
   "metadata": {},
   "source": [
    "It was found that the best model for this data was optimized lasso model: 'lasso_pipeline_optimum'. This resulted in a RSME score of 4915.52. Therefore, this model will be evaluated on the test data to see how it performs on unseen data, from which it will be seen if the model is overfitting or not."
   ]
  },
  {
   "cell_type": "markdown",
   "id": "6943b551",
   "metadata": {},
   "source": [
    "**Final Model Evaluation**"
   ]
  },
  {
   "cell_type": "code",
   "execution_count": 94,
   "id": "357c1c68",
   "metadata": {
    "scrolled": true
   },
   "outputs": [
    {
     "name": "stdout",
     "output_type": "stream",
     "text": [
      "\n",
      "The RSME for the final optimized lasso model for the test data was found to be 4319.409436075967\n"
     ]
    }
   ],
   "source": [
    "# Need to fit data to optimized lasso model as previously on cross validation has been done\n",
    "lasso_pipeline_optimum.fit(X_train, y_train) \n",
    "\n",
    "predictions = lasso_pipeline_optimum.predict(X_test)\n",
    "\n",
    "mean_squared_error_lasso = mean_squared_error(y_test, predictions)\n",
    "\n",
    "print(f'\\nThe RSME for the final optimized lasso model for the test data was found to be {np.sqrt(mean_squared_error_lasso)}')"
   ]
  },
  {
   "cell_type": "markdown",
   "id": "530cf0f9",
   "metadata": {},
   "source": [
    "It was found that the RSME for the test data was actually lower than that found in cross-validation for the training data. This means that the model will be appropriate for future predictions. However, this could also be an indication of sampling bias, meaning that the test data was easy to evaluate on, which may not be true for future predicitons."
   ]
  }
 ],
 "metadata": {
  "kernelspec": {
   "display_name": "Python 3",
   "language": "python",
   "name": "python3"
  },
  "language_info": {
   "codemirror_mode": {
    "name": "ipython",
    "version": 3
   },
   "file_extension": ".py",
   "mimetype": "text/x-python",
   "name": "python",
   "nbconvert_exporter": "python",
   "pygments_lexer": "ipython3",
   "version": "3.8.8"
  }
 },
 "nbformat": 4,
 "nbformat_minor": 5
}
